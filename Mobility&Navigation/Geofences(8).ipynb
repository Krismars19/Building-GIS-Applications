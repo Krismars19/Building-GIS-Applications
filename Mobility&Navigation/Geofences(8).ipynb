{
 "cells": [
  {
   "cell_type": "markdown",
   "metadata": {
    "id": "mlAullxDvGpB"
   },
   "source": [
    "Nudging Check-Ins with Geofences"
   ]
  },
  {
   "cell_type": "markdown",
   "metadata": {
    "id": "9Bq9EisNvTlf"
   },
   "source": [
    "Geofencing is a useful tool and concept in geographic data science and is used in many domain applications, including business, conservation, and security, as well as home automation. The concept of geofencing is very simple, yet it is a powerful technique that enriches location applications. Simply put, a geofence is a defining virtual boundary around geographic objects or an area, so that every time a user enters or leaves the boundary perimeters, actions or notifications can be triggered. With the increased use of smartphone, GPS, and location services, geofencing becomes an indispensable tool in location data analytics and intelligence. In this chapter, we will cover the following topics:\n",
    "\n",
    "- Geofencing concept and components\n",
    "- Revisiting geometry and topology (lines and polygons)\n",
    "- Geofencing application example\n",
    "- Geofencing and interactive web mapping"
   ]
  },
  {
   "cell_type": "markdown",
   "metadata": {
    "id": "GUiVcE51xjCF"
   },
   "source": [
    "**Geofencing applications**\n",
    "\n",
    "Geofencing applications are numerous, as we have seen in the introduction. They can be used in security, business, and smart home design, as well as a ton of other applications. However, the most widely used and common application for geofencing is marketing. In this section, we will cover the use of geofencing in marketing location-based services and products to illustrate and elaborate geofencing concepts with a real-world and concrete example. \n",
    "\n",
    "**Marketing and geofencing**\n",
    "\n",
    "Advertising and marketing agencies have embraced geofencing to increase the effectiveness of their ads and reach their target users efficiently. Marketers deploy geofencing to send or display ads to users at the right time and in the right location once a user is within the perimeters of the geofence, entering it or leaving it. Although this is more likely to be in a mobile device, it also can be effectively used via desktops or tablets, triangulating from Wi-Fi locations. Let's visualize an example of two users"
   ]
  },
  {
   "cell_type": "markdown",
   "metadata": {
    "id": "apxVSYzMxtoi"
   },
   "source": [
    "**Geometry and topology (lines and polygons)**\n",
    "\n",
    "In this chapter, we will use the Brazil GPS Trajectories dataset from UCI. It contains GPS points (latitude and longitude) with timestamps. It also contains unique track_id for each trajectory"
   ]
  },
  {
   "cell_type": "code",
   "execution_count": null,
   "metadata": {
    "id": "H_llrCIfuMU6"
   },
   "outputs": [],
   "source": [
    "# We create a GeoDataFrame using a function\n",
    "\n",
    "def create_gdf(df, lat, lon):\n",
    "  \"\"\" Convert pandas dataframe into a Geopandas GeoDataFrame\"\"\"\n",
    "  crs = {'init': 'epsg:4326'}\n",
    "  geometry = [Point(xy) for xy in zip(df[lon], df[lat])]\n",
    "  gdf = gpd.GeoDataFrame(df, crs=crs, geometry=geometry)\n",
    "  return gdf\n",
    "\n",
    "traj_gdf =  create_gdf(trajectories, \"latitude\", \"longitude\")\n",
    "aracaju_city_points = traj_gdf[(traj_gdf['latitude']<-10.80) & (traj_gdf['longitude']>-37.5)]"
   ]
  },
  {
   "cell_type": "markdown",
   "metadata": {
    "id": "akELyZ04yQYU"
   },
   "source": [
    "In this function, we have created a trajectory GeoDataFrame, and we then took a subset of the trajectories for the city of Aracaju. This is the main file we will use for this chapter. The trajectories map can be displayed in a simple map with GeoPandas using .plot()"
   ]
  },
  {
   "cell_type": "code",
   "execution_count": null,
   "metadata": {
    "id": "EUaJxK-WyTlT"
   },
   "outputs": [],
   "source": [
    "fig, ax = plt.subplots(figsize=(8,8))\n",
    "aracaju_city_points.plot(markersize=5, cmap='Dark2', ax=ax)\n",
    "plt.tight_layout()\n",
    "plt.axis('off')\n",
    "plt.savefig('aracaju_trajectory.png')\n",
    "plt.show()"
   ]
  },
  {
   "cell_type": "markdown",
   "metadata": {
    "id": "xRSVeRiaydxb"
   },
   "source": [
    "**Line geometries**\n",
    "\n",
    "To create a line geometry, we need to have at least two points, and it is almost similar to how we created points in Shapely. Let's create a line from track_id_1. First, we subset the data to get only this track ID, and then we use the Shapely geometry library to create the line"
   ]
  },
  {
   "cell_type": "code",
   "execution_count": null,
   "metadata": {
    "id": "jPTymfzxyg34"
   },
   "outputs": [],
   "source": [
    "track_id_1 = aracaju_city_points[aracaju_city_points['track_id']== 1]\n",
    "\n",
    "line = LineString(track_id_1.geometry)"
   ]
  },
  {
   "cell_type": "markdown",
   "metadata": {
    "id": "bmzPapP8yq5y"
   },
   "source": [
    "Now that you have seen how to create one line, let's do this for the whole dataset. Remember, we said, to create line geometry, we need to filter out and take only the track IDs with two or more points before we can create a line geometry for the whole dataset"
   ]
  },
  {
   "cell_type": "code",
   "execution_count": null,
   "metadata": {
    "id": "ccwSVRB5yqiI"
   },
   "outputs": [],
   "source": [
    "filtered_trackid = aracaju_city_points.groupby('track_id').filter(lambda x: len(x) >= 2)"
   ]
  },
  {
   "cell_type": "markdown",
   "metadata": {
    "id": "Ei4ACsJbyzay"
   },
   "source": [
    "Then, we group all filtered_trackid instances on the track_id feature, get the geometry of the points in each track_id, and apply a Shapely LineString geometry on points in each track_id. This is a chained process, but you can take each part and reconstruct it"
   ]
  },
  {
   "cell_type": "code",
   "execution_count": null,
   "metadata": {
    "id": "RArn-Hvay535"
   },
   "outputs": [],
   "source": [
    "all_tracks = filtered_trackid.groupby(['track_id'])['geometry'].apply(lambda x: LineString(x.tolist()))"
   ]
  },
  {
   "cell_type": "markdown",
   "metadata": {
    "id": "h6AgVq9py8oq"
   },
   "source": [
    "In return, we get all of the lines converted out into a LineString geometry. If we want to create a GeoDataFrame out of this"
   ]
  },
  {
   "cell_type": "code",
   "execution_count": null,
   "metadata": {
    "id": "9D2rGv7SzFE-"
   },
   "outputs": [],
   "source": [
    "gdf_lines_all = gpd.GeoDataFrame(all_tracks, geometry='geometry', crs = {'init':'epsg:4326'})\n",
    "\n",
    "gdf_lines_all['track_id'] = gdf_lines_all.index\n",
    "gdf_lines_all.reset_index(drop=True, inplace=True)"
   ]
  },
  {
   "cell_type": "markdown",
   "metadata": {
    "id": "REF8AyrIzP0o"
   },
   "source": [
    "Now, we have a GeoDataFrame with a LineString geometry for all track IDs. Let's have a look at the LineString map"
   ]
  },
  {
   "cell_type": "markdown",
   "metadata": {
    "id": "_OsY2zIp0iz7"
   },
   "source": [
    "**Polygon geometries**\n",
    "\n",
    "To create a polygon, you need to have at least three coordinates, so it can form a triangle polygon. Let's create a polygon using Python and Shapely. In this case, I grabbed four coordinates around Aracaju city, Brazil"
   ]
  },
  {
   "cell_type": "code",
   "execution_count": null,
   "metadata": {
    "id": "jSvB_tPN0mo6"
   },
   "outputs": [],
   "source": [
    "lats = [-10.813777, -11.002150, -11.070560,-10.878416]\n",
    "lons = [-37.079790, -37.203427, -37.109280, -36.986931]"
   ]
  },
  {
   "cell_type": "markdown",
   "metadata": {
    "id": "My4hBu_N0wsH"
   },
   "source": [
    "To create a polygon, GeoDataFrame simply follows the same procedure we have used to create a point and line geometry. We need to first create the geometry out of the coordinates as well as the coordinate reference system"
   ]
  },
  {
   "cell_type": "code",
   "execution_count": null,
   "metadata": {
    "id": "HDtkAu8u0yhH"
   },
   "outputs": [],
   "source": [
    "crs = {'init': 'epsg:4326'}\n",
    "\n",
    "polygon_geometry = Polygon(zip(lons, lats))"
   ]
  },
  {
   "cell_type": "markdown",
   "metadata": {
    "id": "VyKMuRso04MR"
   },
   "source": [
    "Now, we can create GeoDataFrame out of the geometry and CRS"
   ]
  },
  {
   "cell_type": "code",
   "execution_count": null,
   "metadata": {
    "id": "mv4AhOLp0-fG"
   },
   "outputs": [],
   "source": [
    "polygon_gdf = gpd.GeoDataFrame(index=[0], crs=crs, geometry=[polygon_geometry]) "
   ]
  },
  {
   "cell_type": "markdown",
   "metadata": {
    "id": "5Ic1vZDg1Bu-"
   },
   "source": [
    "Overlayed lines and polygon GeoDataFrames\n",
    "\n",
    "\n",
    "**Topology – points in a polygon**\n",
    "\n",
    "We already covered points in a polygon with sjoin back in Chapter 3, Performing Spatial Operations Like a Pro, and will revisit it here as a topology operation. Pay attention to this example, as this is the most important aspect of the geofencing concept. To simplify our case, we will first take a buffered polygon out of one trajectory point. Later, when doing geofencing, we will bring out polygons of geographic objects, such as an airport, beach, and city center. We convert the buffered point into a polygon GeoDataFrame, reset the index, and make sure that the name of the geometry column is geometry\n"
   ]
  },
  {
   "cell_type": "code",
   "execution_count": null,
   "metadata": {
    "id": "h5kQnsz31RcT"
   },
   "outputs": [],
   "source": [
    "# Create buffer on Point 20 in track_id 1\n",
    "buffer = track_id_1[track_id_1['id'] == 20].buffer(0.005)\n",
    "buffer.reset_index(drop=True, inplace=True)\n",
    "buffer_gdf = gpd.GeoDataFrame(buffer)\n",
    "buffer_gdf.columns = ['geometry']"
   ]
  },
  {
   "cell_type": "markdown",
   "metadata": {
    "id": "f-R80rLZ1Vnq"
   },
   "source": [
    "Let's visualize the tracking points on top of the buffer polygon"
   ]
  },
  {
   "cell_type": "code",
   "execution_count": null,
   "metadata": {
    "id": "-QcNGCEh1Ypf"
   },
   "outputs": [],
   "source": [
    "# Plot track_id 1 points over the Buffer Polygon \n",
    "fig, ax = plt.subplots(figsize=(10,10))\n",
    "buffer_gdf.plot(ax=ax)\n",
    "track_id_1.plot(ax=ax, color='black')\n",
    "plt.tight_layout()\n",
    "#plt.savefig('polygon_lines.png')\n",
    "#plt.axis('off')\n",
    "plt.show()"
   ]
  },
  {
   "cell_type": "markdown",
   "metadata": {
    "id": "CefG4GeQ1cLx"
   },
   "source": [
    "The following map shows the buffered polygon overlaid with track_id_1 points. As you can see, some points are inside buffer_gdf while others are outside of the polygon\n",
    "\n",
    "Overlay track_id_1 and buffer_gdf \n",
    "\n",
    "As you can see, some points fall inside the buffer polygon while others are outside the polygon. We will use the topology operation (within) to check each point's position"
   ]
  },
  {
   "cell_type": "code",
   "execution_count": null,
   "metadata": {
    "id": "seFZxM9p1qCF"
   },
   "outputs": [],
   "source": [
    "# Mask points in polygon -> returns True if inside polygon\n",
    "pip_mask = track_id_1.within(buffer_gdf.loc[0, 'geometry'])\n",
    "pip_mask.value_counts()"
   ]
  },
  {
   "cell_type": "markdown",
   "metadata": {
    "id": "GVQY3CNc1r7K"
   },
   "source": [
    "pip_mask returns a series of True or False instances to indicate whether a point is inside the polygon or not. We can count out the values of this series. In this case, 62 points fall outside the polygon, while 28 points fall inside the polygon. Let's loop over the first 12 values of pip_mask and print out whether it is inside the buffer or outside"
   ]
  },
  {
   "cell_type": "code",
   "execution_count": null,
   "metadata": {
    "id": "MaE2VWT_1u5m"
   },
   "outputs": [],
   "source": [
    "for i in pip_mask[:12]:\n",
    " if i == True:\n",
    " print('Inside the Buffer')\n",
    " else:\n",
    " print(\"Otuside the Buffer\")"
   ]
  },
  {
   "cell_type": "markdown",
   "metadata": {
    "id": "8hg9OgGe10uG"
   },
   "source": [
    "The preceding prints out a Outside the Buffer or Inside the Buffer message for each point, as shown as follows:\n",
    "\n",
    "Outside the Buffer.\n",
    " Outside the Buffer.\n",
    " Outside the Buffer.\n",
    " Outside the Buffer.\n",
    " Outside the Buffer.\n",
    " Outside the Buffer.\n",
    " Outside the Buffer.\n",
    " Outside the Buffer.\n",
    " Outside the Buffer.\n",
    " Inside the Buffer.\n",
    " Inside the Buffer.\n",
    " Inside the Buffer."
   ]
  },
  {
   "cell_type": "markdown",
   "metadata": {
    "id": "trnjguP22Bpp"
   },
   "source": [
    "Let's add these mask values to our track_id_1, variable of GeoDataFrame so that we can check it when plotting. In this example, once we filter out track_id_1 we can differentiate between the points that are inside the polygon or outside the polygon as per the following plot. Here, points have different color, depending on their position"
   ]
  },
  {
   "cell_type": "code",
   "execution_count": null,
   "metadata": {
    "id": "QAQbbht52GDF"
   },
   "outputs": [],
   "source": [
    "# Plot track_id 1 points over the Buffer Polygon \n",
    "fig, ax = plt.subplots(figsize=(10,10))\n",
    "buffer_gdf.plot(ax=ax)\n",
    "track_id_1.plot(ax=ax, column='pip_mask', cmap='bwr')\n",
    "plt.tight_layout()\n",
    "plt.savefig('pipmask_buffer.png')\n",
    "#plt.axis('off')\n",
    "plt.show()\n",
    "track_id_1.loc[:,'pip_mask'] = pip_mask"
   ]
  },
  {
   "cell_type": "markdown",
   "metadata": {
    "id": "kTIvHm3e2SEi"
   },
   "source": [
    "**Geofencing with Plotly**\n",
    "\n",
    "Now that we have covered all of the components of geofencing, we can perform geofencing concepts in practice using our trajectory data. We will utilize the Plotly visualization library to animate trajectories and visualize our geofencing application. We will bring three polygons that denote different use cases: an airport, beach, and city center. \n",
    "\n",
    "**Masking**\n",
    "\n",
    "First, we need to create a mask where we store whether a certain point is inside the geofence or not. We first read the geofence_polygons from the dataset provided with Notebook. Upload it first in Google Colab"
   ]
  },
  {
   "cell_type": "code",
   "execution_count": null,
   "metadata": {
    "id": "yM4bf03N2h7t"
   },
   "outputs": [],
   "source": [
    "geofence_polygons = gpd.read_file('geofence_polygons.gpkg')\n",
    "geofence_polygons"
   ]
  },
  {
   "cell_type": "markdown",
   "metadata": {
    "id": "QbRGi3Xx320G"
   },
   "source": [
    "Geofence polygons\n",
    "\n",
    "Let's plot and overlay geofence_polygons and filtered_trackid points on top of each other"
   ]
  },
  {
   "cell_type": "code",
   "execution_count": null,
   "metadata": {
    "id": "VKzhOOVg37T6"
   },
   "outputs": [],
   "source": [
    "# Plot filtered_tracid points over geofence polygons \n",
    "fig, ax = plt.subplots(figsize=(10,10))\n",
    "geofence_polygons.plot(ax=ax, color='gray')\n",
    "filtered_trackid.plot(ax=ax, markersize=1)\n",
    "plt.tight_layout()\n",
    "#plt.savefig('polygon_lines.png')\n",
    "#plt.axis('off')\n",
    "plt.show()"
   ]
  },
  {
   "cell_type": "markdown",
   "metadata": {
    "id": "nDdL07WY4DaC"
   },
   "source": [
    "Geofence polygons (gray) and tracking points\n",
    "\n",
    "Let's perform masking based on these three polygons in geofence_polygons. Once we do that, we filter out all points with the mask using the GeoPandas within operation"
   ]
  },
  {
   "cell_type": "code",
   "execution_count": null,
   "metadata": {
    "id": "hGvA1IQT4FQt"
   },
   "outputs": [],
   "source": [
    "mask = (geofence_polygons.loc[0, 'geometry'])| (geofence_polygons.loc[1, 'geometry']) |(geofence_polygons.loc[2, 'geometry'])\n",
    "\n",
    "\n",
    "pip_mask_geofence = filtered_trackid.within(mask)\n",
    "pip_mask_geofence.value_counts()"
   ]
  },
  {
   "cell_type": "markdown",
   "metadata": {
    "id": "uD9q5pvj4Ihi"
   },
   "source": [
    "The value counts of tracking points within these three polygons are 2,257, while the other 14,420 are outside of the geofence polygons. \n",
    "\n",
    "Plotly interactive maps\n",
    "Plotly is an analytics web application framework that provides interactive tools such as graphs and maps, and analytics and statistics tools, in the web. Recently, they have released Plotly Express, a simple interactive consistent high-level API for Python visualization. We will use Plotly Express to visualize our geofencing application. It will simply animate points, color differently when the points are inside the geofence, and give us a legend of whether a point is inside or outside of the geofence polygon\n",
    "\n",
    "Let us import Plotly express and set up Mapbox tokens"
   ]
  },
  {
   "cell_type": "code",
   "execution_count": null,
   "metadata": {
    "id": "505SXjEQ4XOi"
   },
   "outputs": [],
   "source": [
    "import plotly_express as px\n",
    "px.set_mapbox_access_token(\"PASTE TOKEN HERE\")"
   ]
  },
  {
   "cell_type": "markdown",
   "metadata": {
    "id": "i6b6Lhd84b4z"
   },
   "source": [
    "Let's first visualize a sample of tracking points with Plotly Express. We will use the scatter_mapbox function, which takes the data, latitude and longitude, and some other optional fields such as color and size"
   ]
  },
  {
   "cell_type": "code",
   "execution_count": null,
   "metadata": {
    "id": "IGNTVRsd4dI0"
   },
   "outputs": [],
   "source": [
    "px.scatter_mapbox(filtered_trackid.sample(500), \n",
    "                  lat=\"latitude\", \n",
    "                  lon=\"longitude\", \n",
    "                  color=\"geofence\", \n",
    "                  size='track_id' ,\n",
    "                  size_max=12, \n",
    "                  zoom=12\n",
    ")"
   ]
  },
  {
   "cell_type": "markdown",
   "metadata": {
    "id": "rBF8ZMLW4lF5"
   },
   "source": [
    "Plotly Express scatter plot for the trajectory data (color by geofence in or out)\n",
    "\n",
    "Now that we have laid out all of the foundational work for the geofence application, the last step is to animate the points and see how the geofence works in a real-world application. scatter_mapbox has an argument parameter for that, and we only need to provide the time frame; in our case, we have a time column"
   ]
  },
  {
   "cell_type": "code",
   "execution_count": null,
   "metadata": {
    "id": "fjbQBuFp4oqb"
   },
   "outputs": [],
   "source": [
    "px.scatter_mapbox(filtered_trackid[:100],\n",
    " lat=\"latitude\", \n",
    " lon=\"longitude\", \n",
    " color=\"geofence\", \n",
    " size='track_id', \n",
    " animation_frame='time',\n",
    " size_max=15, zoom=12)"
   ]
  },
  {
   "cell_type": "markdown",
   "metadata": {
    "id": "n9aEGwgg4sTT"
   },
   "source": [
    "You can see the final map in the Google Colab Notebook or any other Jupyter Notebook you are using. It is pretty advanced visualization with a little code that you can start experimenting with right away. Plotly Express works perfectly well with Plotly, which provides extensive tools for visualization including online and offline charts, graphs, and maps. For example, with Plotly Dash, you can build beautiful web-based analytics applications"
   ]
  }
 ],
 "metadata": {
  "colab": {
   "authorship_tag": "ABX9TyMHCbLNpu9izyCNZRm9rfvl",
   "collapsed_sections": [],
   "name": "Geofences(8).ipynb",
   "provenance": []
  },
  "kernelspec": {
   "display_name": "Python 3",
   "language": "python",
   "name": "python3"
  },
  "language_info": {
   "codemirror_mode": {
    "name": "ipython",
    "version": 3
   },
   "file_extension": ".py",
   "mimetype": "text/x-python",
   "name": "python",
   "nbconvert_exporter": "python",
   "pygments_lexer": "ipython3",
   "version": "3.8.2"
  }
 },
 "nbformat": 4,
 "nbformat_minor": 1
}
