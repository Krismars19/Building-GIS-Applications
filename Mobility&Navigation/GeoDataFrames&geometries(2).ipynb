{
 "cells": [
  {
   "cell_type": "markdown",
   "metadata": {
    "id": "YIZpA-EUiL1N"
   },
   "source": [
    "**GeoDataFrames and geometries**"
   ]
  },
  {
   "cell_type": "markdown",
   "metadata": {
    "id": "TAIb4ciEiVZJ"
   },
   "source": [
    "Geographic coordinates and geometries"
   ]
  },
  {
   "cell_type": "code",
   "execution_count": 1,
   "metadata": {},
   "outputs": [
    {
     "name": "stdout",
     "output_type": "stream",
     "text": [
      "Requirement already satisfied: wget in c:\\users\\oduna\\anaconda3\\lib\\site-packages (3.2)"
     ]
    },
    {
     "name": "stderr",
     "output_type": "stream",
     "text": [
      "WARNING: You are using pip version 20.2.3; however, version 21.0.1 is available.\n",
      "You should consider upgrading via the 'C:\\Users\\oduna\\anaconda3\\python.exe -m pip install --upgrade pip' command.\n"
     ]
    },
    {
     "name": "stdout",
     "output_type": "stream",
     "text": [
      "\n"
     ]
    }
   ],
   "source": [
    "!pip install wget"
   ]
  },
  {
   "cell_type": "code",
   "execution_count": 2,
   "metadata": {
    "id": "dNqT0cLIhf1R",
    "scrolled": true
   },
   "outputs": [
    {
     "name": "stderr",
     "output_type": "stream",
     "text": [
      "'wget' is not recognized as an internal or external command,\n",
      "operable program or batch file.\n"
     ]
    }
   ],
   "source": [
    "# Accessing the data\n",
    "\n",
    "!wget https://www.dropbox.com/s/0zytrf2ncoquxgq/Foursquare_2014_NYC.zip"
   ]
  },
  {
   "cell_type": "code",
   "execution_count": 3,
   "metadata": {
    "colab": {
     "base_uri": "https://localhost:8080/"
    },
    "id": "AJFYY_b7igRF",
    "outputId": "fd0773b4-27ad-4762-dcd8-6a1981bbaec7"
   },
   "outputs": [
    {
     "name": "stderr",
     "output_type": "stream",
     "text": [
      "unzip:  cannot find or open Foursquare_2014_NYC.zip, Foursquare_2014_NYC.zip.zip or Foursquare_2014_NYC.zip.ZIP.\n"
     ]
    }
   ],
   "source": [
    "# let us unzip it\n",
    "\n",
    "!unzip Foursquare_2014_NYC.zip"
   ]
  },
  {
   "cell_type": "code",
   "execution_count": null,
   "metadata": {
    "id": "4CWtSsjGjAv-"
   },
   "outputs": [],
   "source": [
    "import pandas as pd"
   ]
  },
  {
   "cell_type": "markdown",
   "metadata": {
    "id": "jhjFp_srilCP"
   },
   "source": [
    "We will first use pandas to read the CSV file and later convert it to a GeoPandas GeoDataFrame"
   ]
  },
  {
   "cell_type": "code",
   "execution_count": null,
   "metadata": {
    "id": "in3TJHbnioe9"
   },
   "outputs": [],
   "source": [
    "col_names = ['UserID', 'VenueID', 'VenueCategoryID', \n",
    "             'VenueCategoryName', 'Latitude', 'Longtitude',\n",
    "            'Timezone', 'UTCtime']\n",
    "nyc = pd.read_csv('dataset_TSMC2014_NYC.txt',names=col_names,sep=\"\\t\", encoding = \"ISO-8859-1\" )\n",
    "nyc.head()"
   ]
  },
  {
   "cell_type": "markdown",
   "metadata": {
    "id": "bO7keDIWjKIp"
   },
   "source": [
    "**Geometry**\n",
    "\n",
    "The geometry can be created from latitude and longitude. We need to use the Shapely library when creating geometries, but for now, let's loop the first five rows and create a tuple out of them, as follows"
   ]
  },
  {
   "cell_type": "code",
   "execution_count": null,
   "metadata": {
    "id": "YwqmREzBi1ff"
   },
   "outputs": [],
   "source": [
    "for lat, lon in zip(nyc['Latitude'][:5], nyc['Longtitude'][:5]):\n",
    "    geometry = lat, lon\n",
    "    print(geometry)"
   ]
  },
  {
   "cell_type": "markdown",
   "metadata": {
    "id": "2wL1_-00jhWz"
   },
   "source": [
    "This is a simple Latitude and Longitude tuple, but we want to create a spatial geometry column that is aware of both the shape and coordinates. As such, we will use the Shapely library, which provides a lot of spatial geometry operations and uses many of GeoPandas' geometric operations under the hood. Now we will do the same as before, but this time, we will import the Shapely geometry point and wrap around the Latitude and Longitude tuple, as follows"
   ]
  },
  {
   "cell_type": "code",
   "execution_count": null,
   "metadata": {
    "id": "A_5zo9FSjjAm"
   },
   "outputs": [],
   "source": [
    "from shapely.geometry import Point\n",
    "for lat, lon in zip(nyc['Latitude'][:5], nyc['Longtitude'][:5]):\n",
    "    geometry = Point(lat, lon)\n",
    "    print(geometry)"
   ]
  },
  {
   "cell_type": "markdown",
   "metadata": {
    "id": "STXSdSg7nEFR"
   },
   "source": [
    "**Coordinate reference systems**\n",
    "\n",
    "We will perform projections later, but for now, we will simply use epsg:4326 to demonstrate how we can create a GeoDataFrame, as follows"
   ]
  },
  {
   "cell_type": "code",
   "execution_count": null,
   "metadata": {
    "id": "GjXM8R9PnQ86"
   },
   "outputs": [],
   "source": [
    "crs = {'init': 'epsg:4326'}"
   ]
  },
  {
   "cell_type": "markdown",
   "metadata": {
    "id": "-hz658UDnZgA"
   },
   "source": [
    "**GeoDataFrames**\n",
    "\n",
    "Now we can easily create a GeoDatFrame since we have both geometries and a CRS. To create a GeoDataFrame, you need to pass a DataFrame,geometry, and optionally a CRS"
   ]
  },
  {
   "cell_type": "code",
   "execution_count": null,
   "metadata": {
    "id": "k64HLFktnctY"
   },
   "outputs": [],
   "source": [
    "nyc_gdf = gpd.GeoDataFrame(nyc, crs=crs, geometry=geometry)\n",
    "nyc_gdf.head()"
   ]
  },
  {
   "cell_type": "markdown",
   "metadata": {
    "id": "xu6I977hnvE5"
   },
   "source": [
    "The Foursquare dataset converted into a GeoDataFrame (geometry column)\n",
    "\n",
    "GeoPandas automatically adds a geometry column for our data, which enables a lot of spatial operations, as we will see in the following sections and throughout this book. We can also use this geometry column to easily plot our data as a map. In GeoPandas, this can be achieved with the .plot() function.\n",
    "\n",
    "We first prepare the plot by creating a figure and axes to plot the map"
   ]
  },
  {
   "cell_type": "code",
   "execution_count": null,
   "metadata": {
    "id": "WDVGeJDonz3C"
   },
   "outputs": [],
   "source": [
    "fig, ax = plt.subplots(figsize=(12,10))"
   ]
  },
  {
   "cell_type": "code",
   "execution_count": null,
   "metadata": {
    "id": "JMbUuIwQn5cU"
   },
   "outputs": [],
   "source": [
    "nyc_gdf.plot(markersize=0.1,ax=ax);"
   ]
  },
  {
   "cell_type": "markdown",
   "metadata": {
    "id": "jzhQCX_Yn8W5"
   },
   "source": [
    "The following code removes both the x and y tick labels, sets the title of the map as Foursquare Points, and finally tells Matplotlib to show the map inline in the notebook"
   ]
  },
  {
   "cell_type": "code",
   "execution_count": null,
   "metadata": {
    "id": "UO4RSxzjn_3W"
   },
   "outputs": [],
   "source": [
    "ax.set_xticklabels([])\n",
    "ax.set_yticklabels([])\n",
    "ax.set_title('Foursquare Points')\n",
    "plt.show()"
   ]
  }
 ],
 "metadata": {
  "colab": {
   "authorship_tag": "ABX9TyOMCzh5iSgIUuXZUOofEiyW",
   "collapsed_sections": [],
   "name": "GeoDataFrames&geometries(2).ipynb",
   "provenance": []
  },
  "kernelspec": {
   "display_name": "Python 3",
   "language": "python",
   "name": "python3"
  },
  "language_info": {
   "codemirror_mode": {
    "name": "ipython",
    "version": 3
   },
   "file_extension": ".py",
   "mimetype": "text/x-python",
   "name": "python",
   "nbconvert_exporter": "python",
   "pygments_lexer": "ipython3",
   "version": "3.8.2"
  }
 },
 "nbformat": 4,
 "nbformat_minor": 1
}
