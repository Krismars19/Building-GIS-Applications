{
 "cells": [
  {
   "cell_type": "markdown",
   "metadata": {
    "id": "ossyWT3jlAj8"
   },
   "source": [
    "**Routing along streets**\n"
   ]
  },
  {
   "cell_type": "code",
   "execution_count": null,
   "metadata": {
    "id": "Fsvw2zmxjtOt"
   },
   "outputs": [],
   "source": [
    "# Install the GDAL library\n",
    "\n",
    "!pip install networkx pyshp"
   ]
  },
  {
   "cell_type": "code",
   "execution_count": null,
   "metadata": {
    "id": "jOHyiiRlvxCw"
   },
   "outputs": [],
   "source": [
    "# Import libraries\n",
    "\n",
    "import networkx as nx\n",
    "import math\n",
    "from itertools import tee\n",
    "import shapefile\n",
    "import os"
   ]
  },
  {
   "cell_type": "code",
   "execution_count": null,
   "metadata": {
    "id": "XsF3X6Q7wRvq"
   },
   "outputs": [],
   "source": [
    "# Define the current directory as our output directory for the route shapefile\n",
    "\n",
    "savedir = \".\""
   ]
  },
  {
   "cell_type": "code",
   "execution_count": null,
   "metadata": {
    "id": "6UQyWg1ywivK"
   },
   "outputs": [],
   "source": [
    "# Create a function that can calculate the distance between points \n",
    "# in order to populate the impedance values of our graph \n",
    "# and to find the nodes closest to our start and destination points for the route:\n",
    "\n",
    "def haversine(n0, n1):\n",
    "  x1, y1 = n0\n",
    "  x2, y2 = n1\n",
    "  x_dist = math.radians(x1 - x2)\n",
    "  y_dist = math.radians(y1 - y2)\n",
    "  y1_rad = math.radians(y1)\n",
    "  y2_rad = math.radians(y2)\n",
    "  a = math.sin(y_dist/2)**2 + math.sin(x_dist/2)**2 \\\n",
    "  * math.cos(y1_rad) * math.cos(y2_rad)\n",
    "  c = 2 * math.asin(math.sqrt(a))\n",
    "  distance = c * 6371\n",
    "  return distance \n"
   ]
  },
  {
   "cell_type": "code",
   "execution_count": null,
   "metadata": {
    "id": "tnvhUel59VA5"
   },
   "outputs": [],
   "source": [
    "# create another function, which returns pairs of points from a list, \n",
    "# to give us the line segments that we'll use to build our graph edges\n",
    "\n",
    "def pairwise(iterable):\n",
    " \"\"\"Return an iterable in tuples of two\n",
    " s -> (s0,s1), (s1,s2), (s2, s3), ...\"\"\"\n",
    " a, b = tee(iterable)\n",
    " next(b, None)\n",
    " return zip(a, b)"
   ]
  },
  {
   "cell_type": "code",
   "execution_count": null,
   "metadata": {
    "id": "9_mphG8Z9gMK"
   },
   "outputs": [],
   "source": [
    "# Load the dataset\n",
    "\n",
    "shp = \"road_network.shp\""
   ]
  },
  {
   "cell_type": "code",
   "execution_count": null,
   "metadata": {
    "id": "p1cQV0UQ9lsN"
   },
   "outputs": [],
   "source": [
    "# Create a graph with NetworkX and add the shapefile segments as graph edges\n",
    "\n",
    "G = nx.DiGraph()\n",
    "r = shapefile.Reader(shp)\n",
    "for s in r.shapes():\n",
    " for p1, p2 in pairwise(s.points):\n",
    " G.add_edge(tuple(p1), tuple(p2))"
   ]
  },
  {
   "cell_type": "code",
   "execution_count": null,
   "metadata": {
    "id": "RAHfvRnJ9s4d"
   },
   "outputs": [],
   "source": [
    "# Extract the connected components as a subgraph. \n",
    "# However, in this case, we've ensured that the entire graph is connected\n",
    "\n",
    "sg = list(nx.connected_component_subgraphs(G.to_undirected()))[0]"
   ]
  },
  {
   "cell_type": "code",
   "execution_count": null,
   "metadata": {
    "id": "9YksY7OB94gO"
   },
   "outputs": [],
   "source": [
    "# Read in the start and end points that we want to navigate\n",
    "\n",
    "r = shapefile.Reader(\"start_end\")\n",
    "start = r.shape(0).points[0]\n",
    "end = r.shape(1).points[0]"
   ]
  },
  {
   "cell_type": "code",
   "execution_count": null,
   "metadata": {
    "id": "sySQBQAZ-EGv"
   },
   "outputs": [],
   "source": [
    "# Loop through the graph, and assign distance values to each edge, using our haversine formula\n",
    "\n",
    "for n0, n1 in sg.edges_iter():\n",
    " dist = haversine(n0, n1)\n",
    " sg.edge[n0][n1][\"dist\"] = dist"
   ]
  },
  {
   "cell_type": "code",
   "execution_count": null,
   "metadata": {
    "id": "_sB2QLGk-OfG"
   },
   "outputs": [],
   "source": [
    "# We must find the nodes in the graph that are the closest to our start and end points, \n",
    "# in order to begin and end our route by looping through all of the nodes, \n",
    "# and measuring the distance to our end points until we find the shortest distance\n",
    "\n",
    "nn_start = None\n",
    "nn_end = None\n",
    "start_delta = float(\"inf\")\n",
    "end_delta = float(\"inf\")\n",
    "for n in sg.nodes():\n",
    " s_dist = haversine(start, n)\n",
    " e_dist = haversine(end, n)\n",
    " if s_dist < start_delta:\n",
    " nn_start = n\n",
    " start_delta = s_dist\n",
    " if e_dist < end_delta:\n",
    " nn_end = n \n",
    " end_delta = e_dist"
   ]
  },
  {
   "cell_type": "code",
   "execution_count": null,
   "metadata": {
    "id": "KIfOYZMe-cN7"
   },
   "outputs": [],
   "source": [
    "#  calculate the shortest distance through our road network\n",
    "\n",
    "path = nx.shortest_path(sg, source=nn_start, target=nn_end, weight=\"dist\")"
   ]
  },
  {
   "cell_type": "code",
   "execution_count": null,
   "metadata": {
    "id": "3H2RIMiq-ikC"
   },
   "outputs": [],
   "source": [
    "# Add the results to the shapefile and save our route\n",
    "\n",
    "w = shapefile.Writer(shapefile.POLYLINE)\n",
    "w.field(\"NAME\", \"C\", 40)\n",
    "w.line(parts=[[list(p) for p in path]])\n",
    "w.record(\"route\")\n",
    "w.save(os.path.join(savedir, \"route\"))"
   ]
  }
 ],
 "metadata": {
  "colab": {
   "authorship_tag": "ABX9TyM7sCugpZD5pyy4XsFNJwEA",
   "collapsed_sections": [],
   "name": "Routingalongstreets.ipynb",
   "provenance": []
  },
  "kernelspec": {
   "display_name": "Python 3",
   "language": "python",
   "name": "python3"
  },
  "language_info": {
   "codemirror_mode": {
    "name": "ipython",
    "version": 3
   },
   "file_extension": ".py",
   "mimetype": "text/x-python",
   "name": "python",
   "nbconvert_exporter": "python",
   "pygments_lexer": "ipython3",
   "version": "3.8.2"
  }
 },
 "nbformat": 4,
 "nbformat_minor": 1
}
