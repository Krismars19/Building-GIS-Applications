{
 "cells": [
  {
   "cell_type": "markdown",
   "metadata": {
    "id": "rrgAHIyBRaXr"
   },
   "source": [
    "**Getting Location Recommender Systems**\n",
    "\n",
    "Recommendation systems are primarily used to predict the preference or rating of a user for an item. They are widely used in many commercial applications, including product and service recommendations, as well as content and friendship recommendations in social media. However, recommendation systems are not only used for products on Amazon or movies on Netflix but also locations. Location-based recommenders incorporate the location of users to provide relevant and precise recommendations. These can be a point of interest recommendations, such as restaurants, events in nearby locations, or posts and local trends in social media. In this chapter, we will cover different recommender systems, including collaborative filtering methods and location-based recommendation methods. We will take an example of a restaurant recommender system application in this chapter, using a restaurant and consumer dataset from UCI, Machine Learning Repository.\n",
    "\n",
    "The topics covered in this chapter include the following:\n",
    "\n",
    "- Exploratory data analysis\n",
    "- Collaborative filtering recommenders\n",
    "- Location-based recommendation systems"
   ]
  },
  {
   "cell_type": "markdown",
   "metadata": {
    "id": "xaAQ3QkRUUC3"
   },
   "source": [
    "**Exploratory data analysis**\n",
    "\n",
    "Let's start reading the data. We will be using two files: one CSV with ratings and another GeoJSON file with restaurants and their locations. Let's first read the ratings of the CSV file.\n",
    "\n",
    "**Rating data**\n",
    "\n",
    "This file contains the final rating of restaurants. It has userID and placeID, which we can merge with the GeoJSON datasets of restaurants and rating columns. Let's read the data in pandas and look at the first five rows:"
   ]
  },
  {
   "cell_type": "code",
   "execution_count": null,
   "metadata": {
    "id": "fY5P1EAcQ3QU"
   },
   "outputs": [],
   "source": [
    "ratings = pd.read_csv('RCdata/rating_final.csv')\n",
    "ratings.head()"
   ]
  },
  {
   "cell_type": "markdown",
   "metadata": {
    "id": "tLI-RTA5UoAV"
   },
   "source": [
    "User ratings\n",
    "\n",
    "We have 1,161 rating rows and if we look at the first five rows of the rating column, the first three rows under the rating column have a 2 point rating, while the last two rows have a 1 point rating. Let's get the mean of the rating column by using the pandas .mean() function:"
   ]
  },
  {
   "cell_type": "code",
   "execution_count": null,
   "metadata": {
    "id": "kjORc-TDUxIC"
   },
   "outputs": [],
   "source": [
    "print(ratings['rating'].mean())"
   ]
  },
  {
   "cell_type": "markdown",
   "metadata": {
    "id": "j1vjOquMVCxx"
   },
   "source": [
    "The output the preceding code shows that the average rating of the entire rating dataset is 1.20. Let's print out how many unique userID we have, as well as unique placeID"
   ]
  },
  {
   "cell_type": "code",
   "execution_count": null,
   "metadata": {
    "id": "IIClD7h-VQwe"
   },
   "outputs": [],
   "source": [
    "print(\"There are {} unique userID in the dataset\".format(ratings['userID'].nunique()))\n",
    "print(\"There are {} unique placeID in the dataset\".format(ratings['placeID'].nunique()))"
   ]
  },
  {
   "cell_type": "markdown",
   "metadata": {
    "id": "mieXkG7XVkDP"
   },
   "source": [
    "The output of the preceding code prints out the following and we can see that we have 138 unique userID and 130 unique placeID\n",
    "\n",
    "We can also go further and look at countplot to get the distribution of the ratings. We will use seaborn for our data visualization in this chapter\n",
    "\n"
   ]
  },
  {
   "cell_type": "code",
   "execution_count": null,
   "metadata": {
    "id": "JRgBedAsmiKq"
   },
   "outputs": [],
   "source": [
    "fig, ax = plt.subplots(figsize=(12,10))\n",
    "sns.countplot(ratings['rating'], ax=ax)\n",
    "plt.show()"
   ]
  },
  {
   "cell_type": "markdown",
   "metadata": {
    "id": "pa8x5iQmmmnt"
   },
   "source": [
    "The output of the preceding code is countplot, where the total of each rating number is calculated. This plot shows that a rating range of 0 to 2 is available for this dataset and most restaurants have a rating of 2, while around more than 250 restaurants have 0 ratings"
   ]
  },
  {
   "cell_type": "markdown",
   "metadata": {
    "id": "BdTAsw-dmtdd"
   },
   "source": [
    "**Restaurants data**\n",
    "\n",
    "The restaurant dataset is in GeoJSON format and therefore we do not need to convert it into GeoDataFrame but rather can read it directly with GeoPandas. Let's do that. The data comes with 22 columns and, therefore, it will be difficult to read the first five rows in the way that we normally do in this book. We will only read the first two rows and transpose the output to fit it into the screen"
   ]
  },
  {
   "cell_type": "code",
   "execution_count": null,
   "metadata": {
    "id": "W0Jg2CJNnLbY"
   },
   "outputs": [],
   "source": [
    "# Read the data as GeoDataFrame\n",
    "geoplaces = gpd.read_file('RCdata/geoplaces.geojson')\n",
    "geoplaces.head(2).T"
   ]
  },
  {
   "cell_type": "markdown",
   "metadata": {
    "id": "rCCCXWUHnQh-"
   },
   "source": [
    "Here is the output of the first two rows transposed. The columns are now displayed as rows and vice versa. This data comes in 130 rows, matching placeID in the ratings datasets\n",
    "\n",
    "Since we have a geometry column and read the data with GeoPandas, we can plot this data as a map. Let's do a clustered map with folium"
   ]
  },
  {
   "cell_type": "code",
   "execution_count": null,
   "metadata": {
    "id": "FD_Ogl1inU8o"
   },
   "outputs": [],
   "source": [
    "lons = geoplaces['longitude'] \n",
    "lats = geoplaces['latitude']\n",
    "m = folium.Map(\n",
    " location = [np.mean(geoplaces.latitude), np.mean(geoplaces.longitude)],\n",
    " tiles= 'CartoDB dark_matter',\n",
    " zoom_start=6\n",
    " )\n",
    "FastMarkerCluster(data=list(zip(lats, lons))).add_to(m)\n",
    "folium.LayerControl().add_to(m)\n",
    "m"
   ]
  },
  {
   "cell_type": "markdown",
   "metadata": {
    "id": "9YNXFrJqncHB"
   },
   "source": [
    "Let's explore the data further and see how many unique cities are in the dataset"
   ]
  },
  {
   "cell_type": "code",
   "execution_count": null,
   "metadata": {
    "id": "tTTyIfPundoL"
   },
   "outputs": [],
   "source": [
    "print(\"Unique Cities in the dataset is {}\".format(geoplaces.city.nunique()))"
   ]
  },
  {
   "cell_type": "markdown",
   "metadata": {
    "id": "jvGfaVLyniA8"
   },
   "source": [
    "So, let's summarize the unique cities within the dataset in countplot"
   ]
  },
  {
   "cell_type": "code",
   "execution_count": null,
   "metadata": {
    "id": "UaON0Tu9ni6M"
   },
   "outputs": [],
   "source": [
    "# Display cities in countplot\n",
    "fig, ax = plt.subplots(figsize=(18,12))\n",
    "sns.countplot(x=\"city\",data=geoplaces, color=\"grey\", order=geoplaces['city'].value_counts().index, ax=ax)\n",
    "plt.show()"
   ]
  },
  {
   "cell_type": "markdown",
   "metadata": {
    "id": "AjLqvOh8nqZ6"
   },
   "source": [
    "As the following plot indicates, there are a lot of duplicated and mistyped city names in the dataset that need to be cleaned out. For example, Cuernavaca is misspelled as cuernavaca"
   ]
  },
  {
   "cell_type": "markdown",
   "metadata": {
    "id": "t-H1QjSFnu-R"
   },
   "source": [
    "Let's fix this and replace the mistakes with the correctly spelled city names. First, we group all of the cities with misspelled names like this:"
   ]
  },
  {
   "cell_type": "code",
   "execution_count": null,
   "metadata": {
    "id": "mFaJ-4YEnyuf"
   },
   "outputs": [],
   "source": [
    "cuer = ['Cuernavaca', 'cuernavaca', ]\n",
    "slp = ['s.l.p.', 'San Luis Potosi', 'san luis potosi', 'slp', 'san luis potos', 'san luis potosi ', 's.l.p'] \n",
    "ciudad = ['victoria ', 'victoria', 'Cd Victoria', 'Ciudad Victoria', 'Cd. Victoria']"
   ]
  },
  {
   "cell_type": "markdown",
   "metadata": {
    "id": "LeHSm8jqn3S7"
   },
   "source": [
    "Then, replace the mistyped name with the correct one like this"
   ]
  },
  {
   "cell_type": "code",
   "execution_count": null,
   "metadata": {
    "id": "oAHAiTunn3N0"
   },
   "outputs": [],
   "source": [
    "geoplaces['city']=geoplaces['city'].replace(slp,'San Luis Potosi' )\n",
    "geoplaces['city']=geoplaces['city'].replace(ciudad,'Ciudad Victoria')\n",
    "geoplaces['city']=geoplaces['city'].replace(cuer,'Cuernavaca')"
   ]
  },
  {
   "cell_type": "markdown",
   "metadata": {
    "id": "C5rJFxSEpfwk"
   },
   "source": [
    "This looks much cleaner. Let's explore some other features of this dataset. We will display a 2 x 2 plot of countplots for restaurant alcohol service, price, accessibility, and ambience:"
   ]
  },
  {
   "cell_type": "code",
   "execution_count": null,
   "metadata": {
    "id": "c7nsksKJphEi"
   },
   "outputs": [],
   "source": [
    "# Subplots for four countplots\n",
    "fig, ax = plt.subplots(2,2, figsize=(15,12))\n",
    "sns.countplot(x=\"alcohol\",data=geoplaces, color=\"grey\", ax=ax[0][0])\n",
    "ax[0][0].set_title('Alcohol Service')\n",
    "sns.countplot(x=\"price\",data=geoplaces, color=\"grey\", ax=ax[0][1])\n",
    "ax[0][1].set_title('Price Categories')\n",
    "sns.countplot(x=\"accessibility\",data=geoplaces, color=\"grey\", ax=ax[1][0])\n",
    "ax[1][0].set_title('Accessibility Categories')\n",
    "sns.countplot(x=\"Rambience\",data=geoplaces, color=\"grey\", ax=ax[1][1])\n",
    "ax[1][1].set_title('Rambience')\n",
    "#fig.subplots_adjust(hspace=0.5)\n",
    "plt.tight_layout()\n",
    "plt.show()"
   ]
  },
  {
   "cell_type": "markdown",
   "metadata": {
    "id": "Lf-TTk98pkfr"
   },
   "source": [
    "The preceding code output is a 2 x 2 countplot. In the upper left-hand corner, we have an alcohol service countplot of restaurants. Most restaurants do not offer alcohol services, as you can see from the plot. Prices (the upper right-hand graph) also show restaurants with medium prices to have the highest counts. In the lower left-hand part of the plot, accessibility counts indicate that most restaurants do not have accessibility options. Finally, the ambience of restaurants (the lower right-hand graph) has two categories: familiar ambience as well as quiet ambience:\n",
    "\n",
    "\n",
    "Countplots for alcohol service (upper-left), price (upper-right), accessibility (lower-left), and ambience (lower-right)\n",
    "\n",
    "We are ready now to carry out the recommendation algorithm, but we first need to merge the dataset. Since both the ratings and geoplaces datasets have placeID, we can use this column to merge them both. We call our merged dataset simply df\n",
    "\n"
   ]
  },
  {
   "cell_type": "code",
   "execution_count": null,
   "metadata": {
    "id": "NwG6VF0SpwLd"
   },
   "outputs": [],
   "source": [
    "df = pd.merge(ratings, geoplaces, on='placeID')"
   ]
  }
 ],
 "metadata": {
  "colab": {
   "authorship_tag": "ABX9TyNpv3biyzuTyiBgkoG2vkv1",
   "collapsed_sections": [],
   "name": "LocationRecommenderSystems(10a).ipynb",
   "provenance": []
  },
  "kernelspec": {
   "display_name": "Python 3",
   "language": "python",
   "name": "python3"
  },
  "language_info": {
   "codemirror_mode": {
    "name": "ipython",
    "version": 3
   },
   "file_extension": ".py",
   "mimetype": "text/x-python",
   "name": "python",
   "nbconvert_exporter": "python",
   "pygments_lexer": "ipython3",
   "version": "3.8.2"
  }
 },
 "nbformat": 4,
 "nbformat_minor": 1
}
