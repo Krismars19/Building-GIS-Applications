{
 "cells": [
  {
   "cell_type": "markdown",
   "metadata": {
    "id": "aLUFVqMTToOF"
   },
   "source": [
    "### Plot street neworks and routes as interactive leaflet web maps"
   ]
  },
  {
   "cell_type": "markdown",
   "metadata": {
    "id": "BZV2Ui7-UJJV"
   },
   "source": [
    "Use OSMnx to download a street network, calculate a route between two points, and create a Leaflet web map with folium."
   ]
  },
  {
   "cell_type": "code",
   "execution_count": null,
   "metadata": {
    "id": "_M4kVDi8Uc3b"
   },
   "outputs": [],
   "source": [
    "!pip install osmnx"
   ]
  },
  {
   "cell_type": "code",
   "execution_count": 1,
   "metadata": {
    "colab": {
     "base_uri": "https://localhost:8080/",
     "height": 35
    },
    "executionInfo": {
     "elapsed": 2094,
     "status": "ok",
     "timestamp": 1611775819516,
     "user": {
      "displayName": "odunayo onifade",
      "photoUrl": "",
      "userId": "01147472430480984918"
     },
     "user_tz": 300
    },
    "id": "qVLSypErTg7e",
    "outputId": "5e4015f4-f4f8-4e39-d400-11af9aee9ff5"
   },
   "outputs": [
    {
     "data": {
      "application/vnd.google.colaboratory.intrinsic+json": {
       "type": "string"
      },
      "text/plain": [
       "'1.0.1'"
      ]
     },
     "execution_count": 1,
     "metadata": {
      "tags": []
     },
     "output_type": "execute_result"
    }
   ],
   "source": [
    "# Import relevant libraries\n",
    "\n",
    "import networkx as nx\n",
    "import osmnx as ox\n",
    "from IPython.display import IFrame\n",
    "%matplotlib inline\n",
    "ox.config(log_console=True)\n",
    "ox.__version__"
   ]
  },
  {
   "cell_type": "code",
   "execution_count": 2,
   "metadata": {
    "executionInfo": {
     "elapsed": 16733,
     "status": "ok",
     "timestamp": 1611775839515,
     "user": {
      "displayName": "odunayo onifade",
      "photoUrl": "",
      "userId": "01147472430480984918"
     },
     "user_tz": 300
    },
    "id": "S1K5VfWzUp3J"
   },
   "outputs": [],
   "source": [
    "# download the street network for Piedmont, CA\n",
    "G = ox.graph_from_place('Waterloo, Ontario, Canada', network_type='drive')"
   ]
  },
  {
   "cell_type": "markdown",
   "metadata": {
    "id": "2QOO3bahU8v8"
   },
   "source": [
    "Plot a city's street network as an interactive web map\n",
    "\n",
    "You can pass keyword args along to [folium](https://python-visualization.github.io/folium/modules.html#folium.vector_layers.PolyLine) PolyLine to style the lines."
   ]
  },
  {
   "cell_type": "code",
   "execution_count": 3,
   "metadata": {
    "executionInfo": {
     "elapsed": 3239,
     "status": "ok",
     "timestamp": 1611775913241,
     "user": {
      "displayName": "odunayo onifade",
      "photoUrl": "",
      "userId": "01147472430480984918"
     },
     "user_tz": 300
    },
    "id": "k1bknGqeU8TZ"
   },
   "outputs": [],
   "source": [
    "# plot the street network with folium\n",
    "m1 = ox.plot_graph_folium(G, popup_attribute='name', weight=2, color='#8b0000')"
   ]
  },
  {
   "cell_type": "code",
   "execution_count": null,
   "metadata": {
    "id": "4viVpFpzVMin"
   },
   "outputs": [],
   "source": [
    "# save as html file then display map as an iframe\n",
    "filepath = 'graph.html'\n",
    "m1.save(filepath)\n",
    "IFrame(filepath, width=600, height=500)"
   ]
  },
  {
   "cell_type": "markdown",
   "metadata": {
    "id": "NE9qfRqhVauB"
   },
   "source": [
    "You can zoom into the street network above or click any edge to get more info."
   ]
  },
  {
   "cell_type": "markdown",
   "metadata": {
    "id": "zqTbp5fAVdh8"
   },
   "source": [
    "### Plot a route as an interactive web map"
   ]
  },
  {
   "cell_type": "code",
   "execution_count": 7,
   "metadata": {
    "executionInfo": {
     "elapsed": 328,
     "status": "ok",
     "timestamp": 1611776192165,
     "user": {
      "displayName": "odunayo onifade",
      "photoUrl": "",
      "userId": "01147472430480984918"
     },
     "user_tz": 300
    },
    "id": "_1ZccIM0VpaV"
   },
   "outputs": [],
   "source": [
    "# use networkx to calculate the shortest path between two nodes\n",
    "origin_node = list(G.nodes())[0]\n",
    "destination_node = list(G.nodes())[-1]\n",
    "route = nx.shortest_path(G, origin_node, destination_node)"
   ]
  },
  {
   "cell_type": "code",
   "execution_count": 8,
   "metadata": {
    "executionInfo": {
     "elapsed": 677,
     "status": "ok",
     "timestamp": 1611776207716,
     "user": {
      "displayName": "odunayo onifade",
      "photoUrl": "",
      "userId": "01147472430480984918"
     },
     "user_tz": 300
    },
    "id": "QKvBn6v4WPwe"
   },
   "outputs": [],
   "source": [
    "# plot the route with folium\n",
    "# like above, you can pass keyword args along to folium PolyLine to style the lines\n",
    "m2 = ox.plot_route_folium(G, route, weight=10)"
   ]
  },
  {
   "cell_type": "code",
   "execution_count": null,
   "metadata": {
    "id": "vQBgk_dnWVdD"
   },
   "outputs": [],
   "source": [
    "\n",
    "# save as html file then display map as an iframe\n",
    "filepath = 'route.html'\n",
    "m2.save(filepath)\n",
    "IFrame(filepath, width=600, height=500)"
   ]
  },
  {
   "cell_type": "markdown",
   "metadata": {
    "id": "nRvgY09MWdtj"
   },
   "source": [
    "### Plot a route on top of the complete street network map"
   ]
  },
  {
   "cell_type": "code",
   "execution_count": 10,
   "metadata": {
    "executionInfo": {
     "elapsed": 319,
     "status": "ok",
     "timestamp": 1611776276070,
     "user": {
      "displayName": "odunayo onifade",
      "photoUrl": "",
      "userId": "01147472430480984918"
     },
     "user_tz": 300
    },
    "id": "Lnws0UpQWf_d"
   },
   "outputs": [],
   "source": [
    "# plot the route with folium on top of the previously created graph_map\n",
    "m3 = ox.plot_route_folium(G, route, route_map=m1, popup_attribute='length', weight=7)"
   ]
  },
  {
   "cell_type": "code",
   "execution_count": null,
   "metadata": {
    "id": "UsFjnGF0WkEb"
   },
   "outputs": [],
   "source": [
    "# save as html file then display map as an iframe\n",
    "filepath = 'route_graph.html'\n",
    "m3.save(filepath)\n",
    "IFrame(filepath, width=600, height=500)"
   ]
  },
  {
   "cell_type": "code",
   "execution_count": null,
   "metadata": {
    "id": "vY7f9jJ5Wqao"
   },
   "outputs": [],
   "source": []
  },
  {
   "cell_type": "markdown",
   "metadata": {
    "id": "XlU5mB2eWsQa"
   },
   "source": [
    "Footnote\n",
    "- [Resource](https://github.com/gboeing/osmnx-examples/blob/master/notebooks/11-plot-routes-folium-web-map.ipynb)"
   ]
  }
 ],
 "metadata": {
  "colab": {
   "authorship_tag": "ABX9TyNCWytAZGNy0NtVvyu/5hP9",
   "collapsed_sections": [],
   "name": "Street network and routes.ipynb",
   "provenance": []
  },
  "kernelspec": {
   "display_name": "Python 3",
   "language": "python",
   "name": "python3"
  },
  "language_info": {
   "codemirror_mode": {
    "name": "ipython",
    "version": 3
   },
   "file_extension": ".py",
   "mimetype": "text/x-python",
   "name": "python",
   "nbconvert_exporter": "python",
   "pygments_lexer": "ipython3",
   "version": "3.8.2"
  }
 },
 "nbformat": 4,
 "nbformat_minor": 1
}
