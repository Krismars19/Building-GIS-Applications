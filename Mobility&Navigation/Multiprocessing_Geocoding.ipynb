{
 "cells": [
  {
   "cell_type": "markdown",
   "metadata": {
    "id": "a6InhxAzSHgw"
   },
   "source": [
    "Performing multiple geocoding processes using Python"
   ]
  },
  {
   "cell_type": "markdown",
   "metadata": {
    "id": "s8BzML-aTBFP"
   },
   "source": [
    "Install the libraries "
   ]
  },
  {
   "cell_type": "code",
   "execution_count": null,
   "metadata": {
    "id": "KE5DE94vR8ii"
   },
   "outputs": [],
   "source": [
    "!pip install geocoder geopy multiprocessing"
   ]
  },
  {
   "cell_type": "code",
   "execution_count": null,
   "metadata": {
    "id": "v0fueUr-TEtv"
   },
   "outputs": [],
   "source": [
    "# Import our geocoding module\n",
    "from geopy.geocoders import Nominatim\n",
    "\n",
    "# Import the multiprocessing module\n",
    "import multiprocessing as mp"
   ]
  },
  {
   "cell_type": "code",
   "execution_count": null,
   "metadata": {
    "id": "ODAhvUyBTUAA"
   },
   "outputs": [],
   "source": [
    "# Create our geocoder\n",
    "\n",
    "g = Nominatim()"
   ]
  },
  {
   "cell_type": "code",
   "execution_count": null,
   "metadata": {
    "id": "uq3KXDsHTdbz"
   },
   "outputs": [],
   "source": [
    "# Create a function to geocode an individual address\n",
    "\n",
    "def gcode(address):\n",
    "  location = g.geocode(address)\n",
    "  print(\"Geocoding: {}\".format(address))\n",
    "  return location"
   ]
  },
  {
   "cell_type": "code",
   "execution_count": null,
   "metadata": {
    "id": "LvTFxX_PT_Jd"
   },
   "outputs": [],
   "source": [
    "# List of cities to process\n",
    "\n",
    "cities = [\"Toronto, ON\", \"Calgary, AB\", \"Montreal, QC\", \"Waterloo, ON\", \n",
    "          \"Ottawa, ON\", \"Vancouver, BC\", \"Edmonton, AB\"]"
   ]
  },
  {
   "cell_type": "code",
   "execution_count": null,
   "metadata": {
    "id": "LmnT5FQaUnfR"
   },
   "outputs": [],
   "source": [
    "# Create our processor pool counting all of the processors on the machine\n",
    "\n",
    "pool = mp.Pool(processes=mp.cpu_count())"
   ]
  },
  {
   "cell_type": "code",
   "execution_count": null,
   "metadata": {
    "id": "vquauCJ9U9K9"
   },
   "outputs": [],
   "source": [
    "# Map our cities list to the geocoding function \n",
    "# and allow the processor pool to split it across processors\n",
    "\n",
    "results = pool.map(gcode, cities)"
   ]
  },
  {
   "cell_type": "code",
   "execution_count": null,
   "metadata": {
    "colab": {
     "base_uri": "https://localhost:8080/"
    },
    "executionInfo": {
     "elapsed": 481,
     "status": "ok",
     "timestamp": 1616859471746,
     "user": {
      "displayName": "odunayo onifade",
      "photoUrl": "",
      "userId": "01147472430480984918"
     },
     "user_tz": 240
    },
    "id": "0T_RrCQfVRvN",
    "outputId": "9b33af7f-721e-4a0d-d040-fc5ce75c4ed3"
   },
   "outputs": [
    {
     "name": "stdout",
     "output_type": "stream",
     "text": [
      "[Location(Toronto, Golden Horseshoe, Ontario, Canada, (43.6534817, -79.3839347, 0.0)), Location(Calgary, Alberta, Canada, (51.0534234, -114.0625892, 0.0)), Location(Montréal, Agglomération de Montréal, Montréal (06), Québec, Canada, (45.4972159, -73.6103642, 0.0)), Location(Waterloo, Region of Waterloo, Southwestern Ontario, Ontario, Canada, (43.4652699, -80.5222961, 0.0)), Location(Ottawa, (Old) Ottawa, Ottawa, Eastern Ontario, Ontario, K1P 1J1, Canada, (45.421106, -75.690308, 0.0)), Location(Vancouver, District of North Vancouver, British Columbia, Canada, (49.2608724, -123.1139529, 0.0)), Location(Edmonton, Edmonton (city), Alberta, Canada, (53.535411, -113.507996, 0.0))]\n"
     ]
    }
   ],
   "source": [
    "# Print the results\n",
    "\n",
    "print(results)"
   ]
  },
  {
   "cell_type": "markdown",
   "metadata": {
    "id": "onx7DHRSVjCi"
   },
   "source": [
    "Disclaimer: Although the technique is powerful, it as its limitation as doesn't support non-discrete calculations\n"
   ]
  }
 ],
 "metadata": {
  "colab": {
   "authorship_tag": "ABX9TyNAmp6BVG32ZB7i1s2AOOLf",
   "name": "Multiprocessing_Geocoding.ipynb",
   "provenance": []
  },
  "kernelspec": {
   "display_name": "Python 3",
   "language": "python",
   "name": "python3"
  },
  "language_info": {
   "codemirror_mode": {
    "name": "ipython",
    "version": 3
   },
   "file_extension": ".py",
   "mimetype": "text/x-python",
   "name": "python",
   "nbconvert_exporter": "python",
   "pygments_lexer": "ipython3",
   "version": "3.8.2"
  }
 },
 "nbformat": 4,
 "nbformat_minor": 1
}
